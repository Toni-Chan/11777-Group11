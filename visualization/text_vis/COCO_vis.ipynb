{
 "cells": [
  {
   "cell_type": "code",
   "execution_count": 11,
   "metadata": {},
   "outputs": [
    {
     "name": "stdout",
     "output_type": "stream",
     "text": [
      "dict_keys(['info', 'images', 'licenses', 'annotations'])\n",
      "{'image_id': 203564, 'id': 37, 'caption': 'A bicycle replica with a clock as the front wheel.'}\n"
     ]
    }
   ],
   "source": [
    "import json\n",
    "\n",
    "with open(\"COCO/train_val_annotations-2/captions_val2014.json\") as f:\n",
    "    data = json.load(f)\n",
    "    print(data.keys())\n",
    "    print(data['annotations'][0])"
   ]
  },
  {
   "cell_type": "code",
   "execution_count": 67,
   "metadata": {},
   "outputs": [],
   "source": [
    "from gensim.models.keyedvectors import Word2VecKeyedVectors\n",
    "from gensim.models import KeyedVectors\n",
    "def load_word_vectors(fname):\n",
    "    model = KeyedVectors.load_word2vec_format(fname, binary=False)\n",
    "    vecs = model.vectors\n",
    "    words = list(model.vocab.keys())\n",
    "    return model, vecs, words\n",
    "\n",
    "model, vecs, words = load_word_vectors(fname = \"../generation_debias/nullspace_projection/data/embeddings/vecs.filtered.txt\")"
   ]
  },
  {
   "cell_type": "code",
   "execution_count": 14,
   "metadata": {},
   "outputs": [
    {
     "name": "stdout",
     "output_type": "stream",
     "text": [
      "<class 'gensim.models.keyedvectors.Word2VecKeyedVectors'>\n"
     ]
    }
   ],
   "source": [
    "print(type(model))"
   ]
  },
  {
   "cell_type": "code",
   "execution_count": 25,
   "metadata": {},
   "outputs": [
    {
     "name": "stdout",
     "output_type": "stream",
     "text": [
      "202654\n"
     ]
    }
   ],
   "source": [
    "# frequency analysis\n",
    "# embedding cluster\n",
    "token = {}\n",
    "print(len(data['annotations']))\n",
    "for i in range(len(data['annotations'])):\n",
    "    tokens = data['annotations'][i]['caption'].split(' ')\n",
    "    for t in tokens:\n",
    "        if t in model.vocab.keys():\n",
    "            if t not in token.keys():\n",
    "                token[t] = 0\n",
    "            token[t] += 1"
   ]
  },
  {
   "cell_type": "code",
   "execution_count": 38,
   "metadata": {},
   "outputs": [],
   "source": [
    "from sklearn.manifold import TSNE\n",
    "import numpy as np\n",
    "import matplotlib\n",
    "import matplotlib.pyplot as plt"
   ]
  },
  {
   "cell_type": "code",
   "execution_count": 32,
   "metadata": {},
   "outputs": [],
   "source": [
    "sorted_token = sorted(token.items(), key=lambda s:-s[1])"
   ]
  },
  {
   "cell_type": "code",
   "execution_count": 91,
   "metadata": {},
   "outputs": [
    {
     "name": "stdout",
     "output_type": "stream",
     "text": [
      "[('blue', 4502), ('baseball', 4424), ('sign', 4234), ('green', 4219), ('parked', 4206), ('bathroom', 4126), ('looking', 3919), ('bus', 3840), ('side', 3775), ('clock', 3737), ('for', 3725), ('kitchen', 3657), ('couple', 3613), ('pizza', 3608), ('it', 3598), ('field', 3577), ('wearing', 3406), ('food', 3395), ('boy', 3384), ('other', 3305), ('over', 3302), ('sits', 3262), ('flying', 3213), ('player', 3190), ('from', 3179), ('water', 3165), ('men', 3148), ('her', 3142), ('out', 3118), ('laying', 3110), ('bed', 3051), ('wooden', 2992), ('girl', 2991), ('toilet', 2943), ('city', 2927), ('grass', 2900), ('their', 2861), ('through', 2857), ('snow', 2832), ('brown', 2787), ('yellow', 2749), ('eating', 2634), ('picture', 2614), ('as', 2606), ('building', 2588), ('bear', 2559), ('around', 2555), ('one', 2531), ('bench', 2500), ('horse', 2460), ('ball', 2427), ('giraffe', 2421), ('living', 2408), ('beach', 2382), ('each', 2368), ('covered', 2366), ('laptop', 2318), ('under', 2301), ('skateboard', 2300), ('computer', 2280), ('filled', 2273), ('very', 2259), ('outside', 2238), ('close', 2225), ('behind', 2209), ('open', 2153), ('little', 2138), ('motorcycle', 2137), ('game', 2129), ('old', 2075), ('its', 2069), ('fire', 2051), ('cake', 2032), ('elephant', 2002), ('truck', 1995), ('into', 1978), ('board', 1974), ('stop', 1919), ('road', 1907), ('bunch', 1867), ('stands', 1841), ('child', 1833), ('cell', 1822), ('desk', 1795), ('many', 1795), ('bird', 1790), ('car', 1789), ('area', 1784), ('inside', 1777), ('big', 1754), ('air', 1726), ('phone', 1722), ('view', 1716), ('sink', 1693), ('glass', 1682), ('umbrella', 1667), ('boat', 1662), ('different', 1660), ('orange', 1649), ('parking', 1638)]\n"
     ]
    }
   ],
   "source": [
    "selected = sorted_token[50:150]\n",
    "print(selected)\n",
    "v, w = [], []\n",
    "for a, b in selected:\n",
    "    v.append(model[a])\n",
    "    w.append(a)\n",
    "v = np.array(v)"
   ]
  },
  {
   "cell_type": "code",
   "execution_count": 88,
   "metadata": {},
   "outputs": [],
   "source": [
    "selected = [\"man\", \"woman\", \"aunt\", \"uncle\", \"brother\", \"sister\", \"sir\", \"madam\", \"nephew\", \"niece\"]\n",
    "v, w = [], []\n",
    "for a in selected:\n",
    "    v.append(model[a])\n",
    "    w.append(a)\n",
    "v = np.array(v)"
   ]
  },
  {
   "cell_type": "code",
   "execution_count": 90,
   "metadata": {},
   "outputs": [
    {
     "data": {
      "image/png": "[encoded data removed]",
      "text/plain": [
       "<Figure size 432x288 with 1 Axes>"
      ]
     },
     "metadata": {
      "needs_background": "light"
     },
     "output_type": "display_data"
    }
   ],
   "source": [
    "# tsne_before = tsne(all_significantly_biased_vecs[:M], all_significantly_biased_labels[:M], title = \"Original (t=0)\", ind2label =ind2label )\n",
    "n = len(v)\n",
    "tsne = TSNE(n_components=2, init='pca', perplexity=5, learning_rate=50)#, angle = 0.5, perplexity = 20)\n",
    "vecs_2d = tsne.fit_transform(v)\n",
    "\n",
    "for i in range(n):\n",
    "    plt.scatter(vecs_2d[i, 0], vecs_2d[i, 1], c=\"blue\", alpha = 0.3, marker = \"o\")\n",
    "    plt.annotate(w[i], xy=(vecs_2d[i, 0], vecs_2d[i, 1]), xytext=(vecs_2d[i, 0] + 0.001, vecs_2d[i, 1] + 0.001))\n",
    "\n",
    "# label_names = sorted(list(set(labels.tolist())))\n",
    "# num_labels = len(label_names)\n",
    "\n",
    "# names = sorted(set(labels.tolist()))\n",
    "\n",
    "# plt.figure(figsize=(6, 5))\n",
    "# colors = \"red\", \"blue\"\n",
    "# for i, c, label in zip(sorted(set(labels.tolist())), colors, names):\n",
    "    \n",
    "# plt.legend(loc = \"upper right\")\n",
    "\n",
    "plt.title(\"glove embedding\")\n",
    "plt.savefig(\"embeddings_glove_sim.png\", dpi=600)\n",
    "plt.show()"
   ]
  },
  {
   "cell_type": "code",
   "execution_count": 57,
   "metadata": {},
   "outputs": [
    {
     "name": "stderr",
     "output_type": "stream",
     "text": [
      "/Users/wuchiyu/anaconda3/lib/python3.7/site-packages/tensorflow/python/framework/dtypes.py:526: FutureWarning: Passing (type, 1) or '1type' as a synonym of type is deprecated; in a future version of numpy, it will be understood as (type, (1,)) / '(1,)type'.\n",
      "  _np_qint8 = np.dtype([(\"qint8\", np.int8, 1)])\n",
      "/Users/wuchiyu/anaconda3/lib/python3.7/site-packages/tensorflow/python/framework/dtypes.py:527: FutureWarning: Passing (type, 1) or '1type' as a synonym of type is deprecated; in a future version of numpy, it will be understood as (type, (1,)) / '(1,)type'.\n",
      "  _np_quint8 = np.dtype([(\"quint8\", np.uint8, 1)])\n",
      "/Users/wuchiyu/anaconda3/lib/python3.7/site-packages/tensorflow/python/framework/dtypes.py:528: FutureWarning: Passing (type, 1) or '1type' as a synonym of type is deprecated; in a future version of numpy, it will be understood as (type, (1,)) / '(1,)type'.\n",
      "  _np_qint16 = np.dtype([(\"qint16\", np.int16, 1)])\n",
      "/Users/wuchiyu/anaconda3/lib/python3.7/site-packages/tensorflow/python/framework/dtypes.py:529: FutureWarning: Passing (type, 1) or '1type' as a synonym of type is deprecated; in a future version of numpy, it will be understood as (type, (1,)) / '(1,)type'.\n",
      "  _np_quint16 = np.dtype([(\"quint16\", np.uint16, 1)])\n",
      "/Users/wuchiyu/anaconda3/lib/python3.7/site-packages/tensorflow/python/framework/dtypes.py:530: FutureWarning: Passing (type, 1) or '1type' as a synonym of type is deprecated; in a future version of numpy, it will be understood as (type, (1,)) / '(1,)type'.\n",
      "  _np_qint32 = np.dtype([(\"qint32\", np.int32, 1)])\n",
      "/Users/wuchiyu/anaconda3/lib/python3.7/site-packages/tensorflow/python/framework/dtypes.py:535: FutureWarning: Passing (type, 1) or '1type' as a synonym of type is deprecated; in a future version of numpy, it will be understood as (type, (1,)) / '(1,)type'.\n",
      "  np_resource = np.dtype([(\"resource\", np.ubyte, 1)])\n",
      "/Users/wuchiyu/anaconda3/lib/python3.7/site-packages/tensorboard/compat/tensorflow_stub/dtypes.py:541: FutureWarning: Passing (type, 1) or '1type' as a synonym of type is deprecated; in a future version of numpy, it will be understood as (type, (1,)) / '(1,)type'.\n",
      "  _np_qint8 = np.dtype([(\"qint8\", np.int8, 1)])\n",
      "/Users/wuchiyu/anaconda3/lib/python3.7/site-packages/tensorboard/compat/tensorflow_stub/dtypes.py:542: FutureWarning: Passing (type, 1) or '1type' as a synonym of type is deprecated; in a future version of numpy, it will be understood as (type, (1,)) / '(1,)type'.\n",
      "  _np_quint8 = np.dtype([(\"quint8\", np.uint8, 1)])\n",
      "/Users/wuchiyu/anaconda3/lib/python3.7/site-packages/tensorboard/compat/tensorflow_stub/dtypes.py:543: FutureWarning: Passing (type, 1) or '1type' as a synonym of type is deprecated; in a future version of numpy, it will be understood as (type, (1,)) / '(1,)type'.\n",
      "  _np_qint16 = np.dtype([(\"qint16\", np.int16, 1)])\n",
      "/Users/wuchiyu/anaconda3/lib/python3.7/site-packages/tensorboard/compat/tensorflow_stub/dtypes.py:544: FutureWarning: Passing (type, 1) or '1type' as a synonym of type is deprecated; in a future version of numpy, it will be understood as (type, (1,)) / '(1,)type'.\n",
      "  _np_quint16 = np.dtype([(\"quint16\", np.uint16, 1)])\n",
      "/Users/wuchiyu/anaconda3/lib/python3.7/site-packages/tensorboard/compat/tensorflow_stub/dtypes.py:545: FutureWarning: Passing (type, 1) or '1type' as a synonym of type is deprecated; in a future version of numpy, it will be understood as (type, (1,)) / '(1,)type'.\n",
      "  _np_qint32 = np.dtype([(\"qint32\", np.int32, 1)])\n",
      "/Users/wuchiyu/anaconda3/lib/python3.7/site-packages/tensorboard/compat/tensorflow_stub/dtypes.py:550: FutureWarning: Passing (type, 1) or '1type' as a synonym of type is deprecated; in a future version of numpy, it will be understood as (type, (1,)) / '(1,)type'.\n",
      "  np_resource = np.dtype([(\"resource\", np.ubyte, 1)])\n"
     ]
    }
   ],
   "source": [
    "import torch\n",
    "from transformers import BertTokenizer, BertModel\n",
    "\n",
    "tokenizer = BertTokenizer.from_pretrained('bert-base-uncased')"
   ]
  },
  {
   "cell_type": "code",
   "execution_count": 133,
   "metadata": {},
   "outputs": [
    {
     "name": "stdout",
     "output_type": "stream",
     "text": [
      "A bicycle replica with a clock as the front wheel.\n",
      "torch.Size([768]) 0 6\n",
      "torch.Size([768]) 0 7\n",
      "A black Honda motorcycle parked in front of a garage.\n",
      "torch.Size([768]) 1 4\n",
      "torch.Size([768]) 1 5\n",
      "A room with blue walls and a white sink and door.\n",
      "torch.Size([768]) 2 4\n",
      "torch.Size([768]) 2 9\n",
      "A car that seems to be parked illegally behind a legally parked car\n",
      "torch.Size([768]) 3 2\n",
      "torch.Size([768]) 3 7\n",
      "torch.Size([768]) 3 9\n",
      "torch.Size([768]) 3 12\n",
      "torch.Size([768]) 3 13\n",
      "A large passenger airplane flying through the air.\n",
      "torch.Size([768]) 4 5\n",
      "torch.Size([768]) 4 6\n",
      "torch.Size([768]) 4 8\n",
      "There is a GOL plane taking off in a partly cloudy sky.\n",
      "Blue and white color scheme in a small bathroom.\n",
      "torch.Size([768]) 6 1\n",
      "torch.Size([768]) 6 9\n",
      "This is a blue and white bathroom with a wall sink and a lifesaver on the wall.\n",
      "torch.Size([768]) 7 4\n",
      "torch.Size([768]) 7 7\n",
      "torch.Size([768]) 7 11\n",
      "A blue boat themed bathroom with a life preserver on the wall\n",
      "torch.Size([768]) 8 2\n",
      "torch.Size([768]) 8 3\n",
      "torch.Size([768]) 8 5\n",
      "The bike has a clock as a tire.\n",
      "torch.Size([768]) 9 5\n",
      "torch.Size([768]) 9 6\n",
      "A Honda motorcycle parked in a grass driveway\n",
      "torch.Size([768]) 10 3\n",
      "torch.Size([768]) 10 4\n",
      "torch.Size([768]) 10 7\n",
      "two cars parked on the sidewalk on the street\n",
      "torch.Size([768]) 11 3\n",
      "An airplane that is, either, landing or just taking off.\n",
      "A bathroom with walls that are painted baby blue.\n",
      "torch.Size([768]) 13 2\n",
      "torch.Size([768]) 13 9\n",
      "A bathroom with a toilet, sink, and shower.\n",
      "torch.Size([768]) 14 2\n",
      "torch.Size([768]) 14 5\n",
      "torch.Size([768]) 14 7\n",
      "A long empty, minimal modern skylit home kitchen.\n",
      "torch.Size([768]) 15 10\n",
      "An office cubicle with four different types of computers.\n",
      "torch.Size([768]) 16 7\n",
      "A bathroom sink with toiletries on the counter.\n",
      "torch.Size([768]) 17 2\n",
      "torch.Size([768]) 17 3\n",
      "torch.Size([768]) 17 5\n",
      "A small closed toilet in a cramped space.\n",
      "torch.Size([768]) 18 4\n",
      "Two women waiting at a bench next to a street.\n",
      "torch.Size([768]) 19 6\n",
      "A bathroom sink and various personal hygiene items.\n",
      "torch.Size([768]) 20 2\n",
      "torch.Size([768]) 20 3\n",
      "This is an open box containing four cucumbers.\n",
      "torch.Size([768]) 21 4\n",
      "An old-fashioned green station wagon is parked on a shady driveway.\n",
      "torch.Size([768]) 22 2\n",
      "torch.Size([768]) 22 5\n",
      "torch.Size([768]) 22 9\n",
      "A gas stove next to a stainless steel kitchen sink and countertop.\n",
      "torch.Size([768]) 23 9\n",
      "torch.Size([768]) 23 10\n",
      "A black metal bicycle with a clock inside the front wheel.\n",
      "torch.Size([768]) 24 7\n",
      "torch.Size([768]) 24 8\n",
      "A black Honda motorcycle with a dark burgundy seat.\n",
      "torch.Size([768]) 25 4\n",
      "A tan toilet and sink combination in a small room.\n",
      "torch.Size([768]) 26 3\n",
      "torch.Size([768]) 26 5\n",
      "Several motorcycles riding down the road in formation.\n",
      "torch.Size([768]) 27 6\n",
      "A black cat is inside a white toilet.\n",
      "torch.Size([768]) 28 5\n",
      "torch.Size([768]) 28 8\n",
      "City street with parked cars and a bench.\n",
      "torch.Size([768]) 29 1\n",
      "torch.Size([768]) 29 4\n",
      "torch.Size([768]) 29 8\n",
      "The home office space seems to be very cluttered.\n",
      "torch.Size([768]) 30 8\n",
      "A man in a wheelchair and another sitting on a bench that is overlooking the water.\n",
      "torch.Size([768]) 31 11\n",
      "torch.Size([768]) 31 16\n",
      "A man sits with a traditionally decorated cow\n",
      "torch.Size([768]) 32 3\n",
      "Rows of motor bikes and helmets in a city\n",
      "torch.Size([768]) 33 9\n",
      "A cute kitten is sitting in a dish on a table.\n",
      "A messy bathroom countertop perched atop black cabinetry.\n",
      "torch.Size([768]) 35 3\n",
      "A man getting a drink from a water fountain that is a toilet.\n",
      "torch.Size([768]) 36 6\n",
      "torch.Size([768]) 36 8\n",
      "torch.Size([768]) 36 13\n",
      "An open food container box with four unknown food items.\n",
      "torch.Size([768]) 37 2\n",
      "torch.Size([768]) 37 3\n",
      "torch.Size([768]) 37 9\n",
      "An old teal colored car parked on the street.\n",
      "torch.Size([768]) 38 2\n",
      "torch.Size([768]) 38 6\n",
      "torch.Size([768]) 38 7\n",
      "A beautiful dessert waiting to be shared by two people\n",
      "A woman sitting on a bench and a woman standing waiting for the bus.\n",
      "torch.Size([768]) 40 6\n",
      "torch.Size([768]) 40 12\n",
      "torch.Size([768]) 40 14\n",
      "A person holding a skateboard overlooks a dead field of crops.\n",
      "torch.Size([768]) 41 11\n",
      "A group of motorcycle riders driving past buildings.\n",
      "torch.Size([768]) 42 4\n",
      "A bathroom with a sink and shower curtain with a map print.\n",
      "torch.Size([768]) 43 2\n",
      "torch.Size([768]) 43 5\n",
      "A random plane in the sky flying alone\n",
      "torch.Size([768]) 44 7\n",
      "An airplane flying high in the blue sky. \n",
      "torch.Size([768]) 45 3\n",
      "torch.Size([768]) 45 7\n",
      "A woman sitting on a bench in the middle of the city\n",
      "torch.Size([768]) 46 6\n",
      "torch.Size([768]) 46 12\n",
      "A brown and black horse in the middle of the city eating grass.\n",
      "torch.Size([768]) 47 2\n",
      "torch.Size([768]) 47 5\n",
      "torch.Size([768]) 47 11\n",
      "torch.Size([768]) 47 12\n",
      "torch.Size([768]) 47 13\n",
      "A brown purse is sitting on a green bench.\n",
      "torch.Size([768]) 48 2\n",
      "torch.Size([768]) 48 8\n",
      "torch.Size([768]) 48 9\n",
      "This is an advanced toilet with a sink and control panel.\n",
      "torch.Size([768]) 49 5\n",
      "torch.Size([768]) 49 8\n"
     ]
    }
   ],
   "source": [
    "v_bert = [[] for ii in range(len(w))]\n",
    "for ii in range(50):\n",
    "    text = data['annotations'][ii]['caption']\n",
    "    print(text)\n",
    "    marked_text = \"[CLS] \" + text + \" [SEP]\"\n",
    "    tokenized_text = tokenizer.tokenize(marked_text)    # Split the sentence into tokens.\n",
    "#     print (tokenize_text)\n",
    "\n",
    "    # Map the token strings to their vocabulary indeces.\n",
    "    indexed_tokens = tokenizer.convert_tokens_to_ids(tokenized_text)\n",
    "\n",
    "    # Mark each of the 22 tokens as belonging to sentence \"1\".\n",
    "    segments_ids = [1] * len(tokenized_text)\n",
    "\n",
    "    # Convert inputs to PyTorch tensors\n",
    "    tokens_tensor = torch.tensor([indexed_tokens])\n",
    "    segments_tensors = torch.tensor([segments_ids])\n",
    "\n",
    "    # Load pre-trained model (weights)\n",
    "    model_bert = BertModel.from_pretrained('bert-base-uncased', output_hidden_states = True,) # Whether the model returns all hidden-states.\n",
    "\n",
    "    # Put the model in \"evaluation\" mode, meaning feed-forward operation.\n",
    "    model_bert.eval()\n",
    "    with torch.no_grad():\n",
    "        outputs = model_bert(tokens_tensor, segments_tensors)\n",
    "    \n",
    "    for i, token_str in enumerate(tokenized_text):\n",
    "        if token_str in w:\n",
    "            idx = w.index(token_str)\n",
    "            print(outputs[0][0][i].shape, ii, i)\n",
    "            v_bert[idx].append(outputs[0][0][i].detach().numpy())\n",
    "            "
   ]
  },
  {
   "cell_type": "code",
   "execution_count": 69,
   "metadata": {},
   "outputs": [
    {
     "name": "stdout",
     "output_type": "stream",
     "text": [
      "torch.Size([1, 6, 768]) torch.Size([1, 768])\n"
     ]
    }
   ],
   "source": [
    "print(outputs[0].shape, outputs[1].shape)"
   ]
  },
  {
   "cell_type": "code",
   "execution_count": 134,
   "metadata": {},
   "outputs": [
    {
     "name": "stdout",
     "output_type": "stream",
     "text": [
      "['blue', 'green', 'parked', 'bathroom', 'bus', 'clock', 'for', 'kitchen', 'field', 'food', 'sits', 'flying', 'from', 'water', 'toilet', 'city', 'grass', 'through', 'brown', 'eating', 'as', 'bench', 'horse', 'very', 'behind', 'open', 'motorcycle', 'old', 'road', 'car', 'inside', 'air', 'sink', 'boat', 'different']\n"
     ]
    }
   ],
   "source": [
    "v_new = []\n",
    "w_new = []\n",
    "for ww in range(len(w)):\n",
    "    for vv in range(len(v_bert[ww])):\n",
    "        v_new.append(v_bert[ww][vv])\n",
    "        w_new.append(w[ww])\n",
    "        break\n",
    "print(w_new)"
   ]
  },
  {
   "cell_type": "code",
   "execution_count": 135,
   "metadata": {},
   "outputs": [
    {
     "data": {
      "image/png": "[encoded data removed]",
      "text/plain": [
       "<Figure size 432x288 with 1 Axes>"
      ]
     },
     "metadata": {
      "needs_background": "light"
     },
     "output_type": "display_data"
    }
   ],
   "source": [
    "# tsne_before = tsne(all_significantly_biased_vecs[:M], all_significantly_biased_labels[:M], title = \"Original (t=0)\", ind2label =ind2label )\n",
    "n = len(v_new)\n",
    "tsne = TSNE(n_components=2, init='pca', perplexity=5, learning_rate=50)#, angle = 0.5, perplexity = 20)\n",
    "vecs_2d = tsne.fit_transform(v_new)\n",
    "\n",
    "for i in range(n):\n",
    "    plt.scatter(vecs_2d[i, 0], vecs_2d[i, 1], c=\"blue\", alpha = 0.3, marker = \"o\")\n",
    "    plt.annotate(w_new[i], xy=(vecs_2d[i, 0], vecs_2d[i, 1]), xytext=(vecs_2d[i, 0] + 0.001, vecs_2d[i, 1] + 0.001))\n",
    "\n",
    "# label_names = sorted(list(set(labels.tolist())))\n",
    "# num_labels = len(label_names)\n",
    "\n",
    "# names = sorted(set(labels.tolist()))\n",
    "\n",
    "# plt.figure(figsize=(6, 5))\n",
    "# colors = \"red\", \"blue\"\n",
    "# for i, c, label in zip(sorted(set(labels.tolist())), colors, names):\n",
    "    \n",
    "# plt.legend(loc = \"upper right\")\n",
    "\n",
    "plt.title(\"bert embedding\")\n",
    "plt.savefig(\"embeddings_bert.png\", dpi=600)\n",
    "plt.show()"
   ]
  },
  {
   "cell_type": "code",
   "execution_count": 114,
   "metadata": {},
   "outputs": [
    {
     "name": "stdout",
     "output_type": "stream",
     "text": [
      "0.40171546\n"
     ]
    }
   ],
   "source": [
    "text1 = \"I run by the river bank every day\"\n",
    "text2 = \"I took money from the local bank\"\n",
    "\n",
    "marked_text1 = \"[CLS] \" + text1 + \" [SEP]\"\n",
    "marked_text2 = \"[CLS] \" + text2 + \" [SEP]\"\n",
    "tokenized_text1 = tokenizer.tokenize(marked_text1)    # Split the sentence into tokens.\n",
    "tokenized_text2 = tokenizer.tokenize(marked_text2)    # Split the sentence into tokens.\n",
    "#     print (tokenize_text)\n",
    "\n",
    "# Map the token strings to their vocabulary indeces.\n",
    "indexed_tokens1 = tokenizer.convert_tokens_to_ids(tokenized_text1)\n",
    "indexed_tokens2 = tokenizer.convert_tokens_to_ids(tokenized_text2)\n",
    "\n",
    "# Mark each of the 22 tokens as belonging to sentence \"1\".\n",
    "segments_ids1 = [1] * len(tokenized_text1)\n",
    "segments_ids2 = [1] * len(tokenized_text2)\n",
    "\n",
    "# Convert inputs to PyTorch tensors\n",
    "tokens_tensor1 = torch.tensor([indexed_tokens1])\n",
    "segments_tensors1 = torch.tensor([segments_ids1])\n",
    "\n",
    "tokens_tensor2 = torch.tensor([indexed_tokens2])\n",
    "segments_tensors2 = torch.tensor([segments_ids2])\n",
    "\n",
    "# Load pre-trained model (weights)\n",
    "model_bert = BertModel.from_pretrained('bert-base-uncased', output_hidden_states = True,) # Whether the model returns all hidden-states.\n",
    "\n",
    "# Put the model in \"evaluation\" mode, meaning feed-forward operation.\n",
    "model_bert.eval()\n",
    "with torch.no_grad():\n",
    "    outputs1 = model_bert(tokens_tensor1, segments_tensors1)\n",
    "    outputs2 = model_bert(tokens_tensor2, segments_tensors2)\n",
    "    \n",
    "idx1, idx2 = -1, -1\n",
    "for i, token_str in enumerate(tokenized_text1):\n",
    "    if token_str == \"bank\":\n",
    "        idx1 = i\n",
    "        break\n",
    "\n",
    "for i, token_str in enumerate(tokenized_text2):\n",
    "    if token_str == \"bank\":\n",
    "        idx2 = i\n",
    "        break\n",
    "v_new.append(outputs1[0][0][idx1].detach().numpy())\n",
    "v_new.append(outputs2[0][0][idx2].detach().numpy())\n",
    "w_new.append(\"river_bank\")\n",
    "w_new.append(\"local_bank\")\n",
    "x1 = outputs1[0][0][idx1].detach().numpy()\n",
    "x2 = outputs2[0][0][idx2].detach().numpy()\n",
    "print(x1.dot(x2)/np.linalg.norm(x1)/np.linalg.norm(x2))"
   ]
  },
  {
   "cell_type": "code",
   "execution_count": 132,
   "metadata": {},
   "outputs": [
    {
     "data": {
      "image/png": "[encoded data removed]",
      "text/plain": [
       "<Figure size 432x288 with 1 Axes>"
      ]
     },
     "metadata": {
      "needs_background": "light"
     },
     "output_type": "display_data"
    }
   ],
   "source": [
    "# tsne_before = tsne(all_significantly_biased_vecs[:M], all_significantly_biased_labels[:M], title = \"Original (t=0)\", ind2label =ind2label )\n",
    "n = len(v_new)\n",
    "tsne = TSNE(n_components=2, init='pca', perplexity=5, learning_rate=50)#, angle = 0.5, perplexity = 20)\n",
    "vecs_2d = tsne.fit_transform(v_new)\n",
    "\n",
    "for i in range(n):\n",
    "    plt.scatter(vecs_2d[i, 0], vecs_2d[i, 1], c=\"blue\", alpha = 0.3, marker = \"o\")\n",
    "    plt.annotate(w_new[i], xy=(vecs_2d[i, 0], vecs_2d[i, 1]), xytext=(vecs_2d[i, 0] + 0.001, vecs_2d[i, 1] + 0.001))\n",
    "\n",
    "# label_names = sorted(list(set(labels.tolist())))\n",
    "# num_labels = len(label_names)\n",
    "\n",
    "# names = sorted(set(labels.tolist()))\n",
    "\n",
    "# plt.figure(figsize=(6, 5))\n",
    "# colors = \"red\", \"blue\"\n",
    "# for i, c, label in zip(sorted(set(labels.tolist())), colors, names):\n",
    "    \n",
    "# plt.legend(loc = \"upper right\")\n",
    "\n",
    "plt.title(\"bert embedding\")\n",
    "plt.savefig(\"embeddings_bert_bank.png\", dpi=600)\n",
    "plt.show()"
   ]
  },
  {
   "cell_type": "code",
   "execution_count": null,
   "metadata": {},
   "outputs": [],
   "source": []
  }
 ],
 "metadata": {
  "kernelspec": {
   "display_name": "Python 3",
   "language": "python",
   "name": "python3"
  },
  "language_info": {
   "codemirror_mode": {
    "name": "ipython",
    "version": 3
   },
   "file_extension": ".py",
   "mimetype": "text/x-python",
   "name": "python",
   "nbconvert_exporter": "python",
   "pygments_lexer": "ipython3",
   "version": "3.7.3"
  }
 },
 "nbformat": 4,
 "nbformat_minor": 2
}
